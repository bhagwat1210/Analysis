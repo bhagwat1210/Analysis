{
 "cells": [
  {
   "cell_type": "code",
   "execution_count": 1,
   "metadata": {
    "collapsed": false
   },
   "outputs": [],
   "source": [
    "import pandas as pd\n",
    "import numpy as np\n",
    "import matplotlib.pyplot as plt\n",
    "from sklearn.ensemble import RandomForestClassifier \n",
    "from sklearn.cross_validation import train_test_split\n",
    "from sklearn.tree import DecisionTreeClassifier\n",
    "import sklearn.metrics\n",
    "from sklearn import datasets\n",
    "from sklearn.ensemble import ExtraTreesClassifier\n",
    "%matplotlib inline"
   ]
  },
  {
   "cell_type": "code",
   "execution_count": 2,
   "metadata": {
    "collapsed": false
   },
   "outputs": [
    {
     "name": "stdout",
     "output_type": "stream",
     "text": [
      "<class 'pandas.core.frame.DataFrame'>\n",
      "RangeIndex: 6504 entries, 0 to 6503\n",
      "Data columns (total 25 columns):\n",
      "BIO_SEX      6503 non-null float64\n",
      "HISPANIC     6481 non-null float64\n",
      "WHITE        6485 non-null float64\n",
      "BLACK        6485 non-null float64\n",
      "NAMERICAN    6485 non-null float64\n",
      "ASIAN        6485 non-null float64\n",
      "age          4837 non-null float64\n",
      "TREG1        6500 non-null float64\n",
      "ALCEVR1      6444 non-null float64\n",
      "ALCPROBS1    6504 non-null int64\n",
      "marever1     6504 non-null int64\n",
      "cocever1     6504 non-null int64\n",
      "inhever1     6504 non-null int64\n",
      "cigavail     6444 non-null float64\n",
      "DEP1         6486 non-null float64\n",
      "ESTEEM1      6483 non-null float64\n",
      "VIOL1        6454 non-null float64\n",
      "PASSIST      6504 non-null int64\n",
      "DEVIANT1     6448 non-null float64\n",
      "SCHCONN1     6368 non-null float64\n",
      "GPA1         6274 non-null float64\n",
      "EXPEL1       6486 non-null float64\n",
      "FAMCONCT     6504 non-null float64\n",
      "PARACTV      6477 non-null float64\n",
      "PARPRES      6369 non-null float64\n",
      "dtypes: float64(20), int64(5)\n",
      "memory usage: 1.2 MB\n"
     ]
    }
   ],
   "source": [
    "data =  pd.read_csv(\"~/Downloads/health.csv\")\n",
    "data.info()"
   ]
  },
  {
   "cell_type": "code",
   "execution_count": 3,
   "metadata": {
    "collapsed": false
   },
   "outputs": [
    {
     "name": "stdout",
     "output_type": "stream",
     "text": [
      "<class 'pandas.core.frame.DataFrame'>\n",
      "Int64Index: 4575 entries, 1 to 6502\n",
      "Data columns (total 25 columns):\n",
      "BIO_SEX      4575 non-null float64\n",
      "HISPANIC     4575 non-null float64\n",
      "WHITE        4575 non-null float64\n",
      "BLACK        4575 non-null float64\n",
      "NAMERICAN    4575 non-null float64\n",
      "ASIAN        4575 non-null float64\n",
      "age          4575 non-null float64\n",
      "TREG1        4575 non-null float64\n",
      "ALCEVR1      4575 non-null float64\n",
      "ALCPROBS1    4575 non-null int64\n",
      "marever1     4575 non-null int64\n",
      "cocever1     4575 non-null int64\n",
      "inhever1     4575 non-null int64\n",
      "cigavail     4575 non-null float64\n",
      "DEP1         4575 non-null float64\n",
      "ESTEEM1      4575 non-null float64\n",
      "VIOL1        4575 non-null float64\n",
      "PASSIST      4575 non-null int64\n",
      "DEVIANT1     4575 non-null float64\n",
      "SCHCONN1     4575 non-null float64\n",
      "GPA1         4575 non-null float64\n",
      "EXPEL1       4575 non-null float64\n",
      "FAMCONCT     4575 non-null float64\n",
      "PARACTV      4575 non-null float64\n",
      "PARPRES      4575 non-null float64\n",
      "dtypes: float64(20), int64(5)\n",
      "memory usage: 929.3 KB\n"
     ]
    }
   ],
   "source": [
    "## removing NA to feed to the classifier \n",
    "data = data.dropna()\n",
    "data.info()"
   ]
  },
  {
   "cell_type": "code",
   "execution_count": 4,
   "metadata": {
    "collapsed": false
   },
   "outputs": [],
   "source": [
    "## data set is a mix of explanatory variables from continuous and categorical variable \n",
    "## selecting variale of interest \n",
    "clean = ['BIO_SEX','HISPANIC','WHITE','BLACK','NAMERICAN','ASIAN','age','ALCEVR1','ALCPROBS1','marever1','cocever1'\n",
    "        ,'inhever1','cigavail','DEP1','ESTEEM1','VIOL1','PASSIST','DEVIANT1',\n",
    "        'SCHCONN1','GPA1','EXPEL1','FAMCONCT','PARACTV','PARPRES']"
   ]
  },
  {
   "cell_type": "code",
   "execution_count": 5,
   "metadata": {
    "collapsed": false
   },
   "outputs": [],
   "source": [
    "## segregating the predictors \n",
    "data_p = data[clean]"
   ]
  },
  {
   "cell_type": "code",
   "execution_count": 6,
   "metadata": {
    "collapsed": true
   },
   "outputs": [],
   "source": [
    "## segregrating the target or reponse variable \n",
    "data_t = data.TREG1"
   ]
  },
  {
   "cell_type": "code",
   "execution_count": 7,
   "metadata": {
    "collapsed": false
   },
   "outputs": [],
   "source": [
    "## divining trainin and test sample using train_test_split function of crossvalidation class \n",
    "\n",
    "pred_train,pred_test,tar_train,tar_test = train_test_split(data_p,data_t,test_size=.4)"
   ]
  },
  {
   "cell_type": "code",
   "execution_count": 8,
   "metadata": {
    "collapsed": false
   },
   "outputs": [
    {
     "data": {
      "text/plain": [
       "((2745, 24), (1830, 24), (2745,), (1830,))"
      ]
     },
     "execution_count": 8,
     "metadata": {},
     "output_type": "execute_result"
    }
   ],
   "source": [
    "## checking shape of the result\n",
    "\n",
    "pred_train.shape,pred_test.shape,tar_train.shape,tar_test.shape"
   ]
  },
  {
   "cell_type": "code",
   "execution_count": 9,
   "metadata": {
    "collapsed": true
   },
   "outputs": [],
   "source": [
    "## now using the classifier \n",
    "random_f = RandomForestClassifier(n_estimators=25)"
   ]
  },
  {
   "cell_type": "code",
   "execution_count": 10,
   "metadata": {
    "collapsed": true
   },
   "outputs": [],
   "source": [
    "classifier = random_f.fit(pred_train,tar_train)\n",
    "prediction = classifier.predict(pred_test)"
   ]
  },
  {
   "cell_type": "code",
   "execution_count": 11,
   "metadata": {
    "collapsed": false
   },
   "outputs": [
    {
     "name": "stdout",
     "output_type": "stream",
     "text": [
      "The confusion matrix is \n"
     ]
    },
    {
     "data": {
      "text/plain": [
       "array([[1425,   64],\n",
       "       [ 230,  111]])"
      ]
     },
     "execution_count": 11,
     "metadata": {},
     "output_type": "execute_result"
    }
   ],
   "source": [
    "print 'The confusion matrix is '\n",
    "sklearn.metrics.confusion_matrix(tar_test,prediction)"
   ]
  },
  {
   "cell_type": "code",
   "execution_count": 12,
   "metadata": {
    "collapsed": false
   },
   "outputs": [
    {
     "name": "stdout",
     "output_type": "stream",
     "text": [
      "The accuracy is   0.839344262295\n"
     ]
    }
   ],
   "source": [
    "print 'The accuracy is  ',sklearn.metrics.accuracy_score(tar_test,prediction)"
   ]
  },
  {
   "cell_type": "code",
   "execution_count": 13,
   "metadata": {
    "collapsed": false
   },
   "outputs": [
    {
     "name": "stdout",
     "output_type": "stream",
     "text": [
      "[ 0.0135338   0.0098056   0.02490613  0.01141135  0.00397821  0.00303955\n",
      "  0.08244924  0.0307618   0.05436835  0.10035807  0.01424336  0.0119224\n",
      "  0.01950309  0.07426495  0.06603531  0.0480719   0.00920254  0.09315929\n",
      "  0.07173559  0.07510348  0.00629059  0.07221224  0.05925989  0.04438325]\n"
     ]
    }
   ],
   "source": [
    "print (random_f.feature_importances_)"
   ]
  },
  {
   "cell_type": "code",
   "execution_count": 14,
   "metadata": {
    "collapsed": false
   },
   "outputs": [
    {
     "data": {
      "image/png": "[encoded data removed]",
      "text/plain": [
       "<matplotlib.figure.Figure at 0x10bb56110>"
      ]
     },
     "metadata": {},
     "output_type": "display_data"
    }
   ],
   "source": [
    "plt.figure(figsize=(12,12)).add_subplot(111)\n",
    "trees=range(50)\n",
    "accuracy=np.zeros(50)\n",
    "\n",
    "for idx in range(len(trees)):\n",
    "   classifier=RandomForestClassifier(n_estimators=idx + 1)\n",
    "   classifier=classifier.fit(pred_train,tar_train)\n",
    "   predictions=classifier.predict(pred_test)\n",
    "   accuracy[idx]=sklearn.metrics.accuracy_score(tar_test, predictions)\n",
    "   \n",
    "plt.cla()\n",
    "\n",
    "plt.plot(trees, accuracy)\n",
    "plt.xlabel('Number of Trees',fontsize=30)\n",
    "plt.ylabel('accuracy score',fontsize=30)\n",
    "plt.grid()"
   ]
  },
  {
   "cell_type": "markdown",
   "metadata": {},
   "source": [
    "# Observation : This means that increasing the number of trees doesn't have much impact on accuracy . Ideal though is 20"
   ]
  },
  {
   "cell_type": "code",
   "execution_count": null,
   "metadata": {
    "collapsed": true
   },
   "outputs": [],
   "source": []
  }
 ],
 "metadata": {
  "kernelspec": {
   "display_name": "Python 2",
   "language": "python",
   "name": "python2"
  },
  "language_info": {
   "codemirror_mode": {
    "name": "ipython",
    "version": 2
   },
   "file_extension": ".py",
   "mimetype": "text/x-python",
   "name": "python",
   "nbconvert_exporter": "python",
   "pygments_lexer": "ipython2",
   "version": "2.7.11"
  }
 },
 "nbformat": 4,
 "nbformat_minor": 0
}
